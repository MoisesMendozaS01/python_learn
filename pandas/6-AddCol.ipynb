{
 "cells": [
  {
   "cell_type": "code",
   "execution_count": 1,
   "metadata": {},
   "outputs": [],
   "source": [
    "import pandas as pd"
   ]
  },
  {
   "cell_type": "code",
   "execution_count": 3,
   "metadata": {},
   "outputs": [
    {
     "data": {
      "text/html": [
       "<div>\n",
       "<style scoped>\n",
       "    .dataframe tbody tr th:only-of-type {\n",
       "        vertical-align: middle;\n",
       "    }\n",
       "\n",
       "    .dataframe tbody tr th {\n",
       "        vertical-align: top;\n",
       "    }\n",
       "\n",
       "    .dataframe thead th {\n",
       "        text-align: right;\n",
       "    }\n",
       "</style>\n",
       "<table border=\"1\" class=\"dataframe\">\n",
       "  <thead>\n",
       "    <tr style=\"text-align: right;\">\n",
       "      <th></th>\n",
       "      <th>Nombres</th>\n",
       "      <th>Edad</th>\n",
       "      <th>genero</th>\n",
       "      <th>Trabajo</th>\n",
       "    </tr>\n",
       "  </thead>\n",
       "  <tbody>\n",
       "    <tr>\n",
       "      <th>0</th>\n",
       "      <td>Moises</td>\n",
       "      <td>24</td>\n",
       "      <td>M</td>\n",
       "      <td>Programador</td>\n",
       "    </tr>\n",
       "    <tr>\n",
       "      <th>1</th>\n",
       "      <td>Lluvia</td>\n",
       "      <td>46</td>\n",
       "      <td>F</td>\n",
       "      <td>Repostera</td>\n",
       "    </tr>\n",
       "    <tr>\n",
       "      <th>2</th>\n",
       "      <td>Aaron</td>\n",
       "      <td>22</td>\n",
       "      <td>M</td>\n",
       "      <td>Chef</td>\n",
       "    </tr>\n",
       "    <tr>\n",
       "      <th>3</th>\n",
       "      <td>Itzel</td>\n",
       "      <td>28</td>\n",
       "      <td>F</td>\n",
       "      <td>Doctora</td>\n",
       "    </tr>\n",
       "    <tr>\n",
       "      <th>4</th>\n",
       "      <td>Alberto</td>\n",
       "      <td>26</td>\n",
       "      <td>M</td>\n",
       "      <td>Biotecnologo</td>\n",
       "    </tr>\n",
       "    <tr>\n",
       "      <th>5</th>\n",
       "      <td>Junuen</td>\n",
       "      <td>27</td>\n",
       "      <td>F</td>\n",
       "      <td>Ing. Industrial</td>\n",
       "    </tr>\n",
       "    <tr>\n",
       "      <th>6</th>\n",
       "      <td>Francisco</td>\n",
       "      <td>20</td>\n",
       "      <td>M</td>\n",
       "      <td>Locutor</td>\n",
       "    </tr>\n",
       "  </tbody>\n",
       "</table>\n",
       "</div>"
      ],
      "text/plain": [
       "     Nombres  Edad genero          Trabajo\n",
       "0     Moises    24      M      Programador\n",
       "1    Lluvia     46      F        Repostera\n",
       "2     Aaron     22      M             Chef\n",
       "3      Itzel    28      F          Doctora\n",
       "4    Alberto    26      M     Biotecnologo\n",
       "5     Junuen    27      F  Ing. Industrial\n",
       "6  Francisco    20     M           Locutor"
      ]
     },
     "execution_count": 3,
     "metadata": {},
     "output_type": "execute_result"
    }
   ],
   "source": [
    "# Leyendo el archivo csv\n",
    "df_family = pd.read_csv(\"familia.csv\")\n",
    "df_family"
   ]
  },
  {
   "cell_type": "markdown",
   "metadata": {},
   "source": [
    "# 1 Agregar una nueva Columna"
   ]
  },
  {
   "cell_type": "markdown",
   "metadata": {},
   "source": [
    "## Agragar una nueva columna con un valor"
   ]
  },
  {
   "cell_type": "code",
   "execution_count": 8,
   "metadata": {},
   "outputs": [
    {
     "data": {
      "text/html": [
       "<div>\n",
       "<style scoped>\n",
       "    .dataframe tbody tr th:only-of-type {\n",
       "        vertical-align: middle;\n",
       "    }\n",
       "\n",
       "    .dataframe tbody tr th {\n",
       "        vertical-align: top;\n",
       "    }\n",
       "\n",
       "    .dataframe thead th {\n",
       "        text-align: right;\n",
       "    }\n",
       "</style>\n",
       "<table border=\"1\" class=\"dataframe\">\n",
       "  <thead>\n",
       "    <tr style=\"text-align: right;\">\n",
       "      <th></th>\n",
       "      <th>Nombres</th>\n",
       "      <th>Edad</th>\n",
       "      <th>genero</th>\n",
       "      <th>Trabajo</th>\n",
       "      <th>Idiomas</th>\n",
       "      <th>Salario</th>\n",
       "    </tr>\n",
       "  </thead>\n",
       "  <tbody>\n",
       "    <tr>\n",
       "      <th>0</th>\n",
       "      <td>Moises</td>\n",
       "      <td>24</td>\n",
       "      <td>M</td>\n",
       "      <td>Programador</td>\n",
       "      <td>Español</td>\n",
       "      <td>10000</td>\n",
       "    </tr>\n",
       "    <tr>\n",
       "      <th>1</th>\n",
       "      <td>Lluvia</td>\n",
       "      <td>46</td>\n",
       "      <td>F</td>\n",
       "      <td>Repostera</td>\n",
       "      <td>Español</td>\n",
       "      <td>10000</td>\n",
       "    </tr>\n",
       "    <tr>\n",
       "      <th>2</th>\n",
       "      <td>Aaron</td>\n",
       "      <td>22</td>\n",
       "      <td>M</td>\n",
       "      <td>Chef</td>\n",
       "      <td>Español</td>\n",
       "      <td>10000</td>\n",
       "    </tr>\n",
       "    <tr>\n",
       "      <th>3</th>\n",
       "      <td>Itzel</td>\n",
       "      <td>28</td>\n",
       "      <td>F</td>\n",
       "      <td>Doctora</td>\n",
       "      <td>Español</td>\n",
       "      <td>10000</td>\n",
       "    </tr>\n",
       "    <tr>\n",
       "      <th>4</th>\n",
       "      <td>Alberto</td>\n",
       "      <td>26</td>\n",
       "      <td>M</td>\n",
       "      <td>Biotecnologo</td>\n",
       "      <td>Español</td>\n",
       "      <td>10000</td>\n",
       "    </tr>\n",
       "    <tr>\n",
       "      <th>5</th>\n",
       "      <td>Junuen</td>\n",
       "      <td>27</td>\n",
       "      <td>F</td>\n",
       "      <td>Ing. Industrial</td>\n",
       "      <td>Español</td>\n",
       "      <td>10000</td>\n",
       "    </tr>\n",
       "    <tr>\n",
       "      <th>6</th>\n",
       "      <td>Francisco</td>\n",
       "      <td>20</td>\n",
       "      <td>M</td>\n",
       "      <td>Locutor</td>\n",
       "      <td>Español</td>\n",
       "      <td>10000</td>\n",
       "    </tr>\n",
       "  </tbody>\n",
       "</table>\n",
       "</div>"
      ],
      "text/plain": [
       "     Nombres  Edad genero          Trabajo  Idiomas  Salario\n",
       "0     Moises    24      M      Programador  Español    10000\n",
       "1    Lluvia     46      F        Repostera  Español    10000\n",
       "2     Aaron     22      M             Chef  Español    10000\n",
       "3      Itzel    28      F          Doctora  Español    10000\n",
       "4    Alberto    26      M     Biotecnologo  Español    10000\n",
       "5     Junuen    27      F  Ing. Industrial  Español    10000\n",
       "6  Francisco    20     M           Locutor  Español    10000"
      ]
     },
     "execution_count": 8,
     "metadata": {},
     "output_type": "execute_result"
    }
   ],
   "source": [
    "# Agregar una nueva columna al dartaframe\n",
    "df_family['Idiomas'] = \"Español\"\n",
    "df_family\n",
    "df_family['Salario'] = 10000\n",
    "df_family\n"
   ]
  },
  {
   "cell_type": "markdown",
   "metadata": {},
   "source": [
    "## 1.2 Agregar una nueva columna con un array\n",
    "\n",
    "EL dataframe tiene 7 filas por ello tenemos que crear un array the 7 elementos"
   ]
  },
  {
   "cell_type": "code",
   "execution_count": 11,
   "metadata": {},
   "outputs": [],
   "source": [
    "# Importar numpy\n",
    "import numpy as np"
   ]
  },
  {
   "cell_type": "code",
   "execution_count": 13,
   "metadata": {},
   "outputs": [],
   "source": [
    "# Crear un array de 7 elementos (empieza en 10,000 termina en 17,000 y avanza 1,000)\n",
    "salario_num = np.arange(10000,17000,1000)"
   ]
  },
  {
   "cell_type": "code",
   "execution_count": 14,
   "metadata": {},
   "outputs": [
    {
     "data": {
      "text/plain": [
       "7"
      ]
     },
     "execution_count": 14,
     "metadata": {},
     "output_type": "execute_result"
    }
   ],
   "source": [
    "# Tamaño del array\n",
    "len(salario_num)"
   ]
  },
  {
   "cell_type": "code",
   "execution_count": 15,
   "metadata": {},
   "outputs": [
    {
     "data": {
      "text/html": [
       "<div>\n",
       "<style scoped>\n",
       "    .dataframe tbody tr th:only-of-type {\n",
       "        vertical-align: middle;\n",
       "    }\n",
       "\n",
       "    .dataframe tbody tr th {\n",
       "        vertical-align: top;\n",
       "    }\n",
       "\n",
       "    .dataframe thead th {\n",
       "        text-align: right;\n",
       "    }\n",
       "</style>\n",
       "<table border=\"1\" class=\"dataframe\">\n",
       "  <thead>\n",
       "    <tr style=\"text-align: right;\">\n",
       "      <th></th>\n",
       "      <th>Nombres</th>\n",
       "      <th>Edad</th>\n",
       "      <th>genero</th>\n",
       "      <th>Trabajo</th>\n",
       "      <th>Idiomas</th>\n",
       "      <th>Salario</th>\n",
       "    </tr>\n",
       "  </thead>\n",
       "  <tbody>\n",
       "    <tr>\n",
       "      <th>0</th>\n",
       "      <td>Moises</td>\n",
       "      <td>24</td>\n",
       "      <td>M</td>\n",
       "      <td>Programador</td>\n",
       "      <td>Español</td>\n",
       "      <td>10000</td>\n",
       "    </tr>\n",
       "    <tr>\n",
       "      <th>1</th>\n",
       "      <td>Lluvia</td>\n",
       "      <td>46</td>\n",
       "      <td>F</td>\n",
       "      <td>Repostera</td>\n",
       "      <td>Español</td>\n",
       "      <td>11000</td>\n",
       "    </tr>\n",
       "    <tr>\n",
       "      <th>2</th>\n",
       "      <td>Aaron</td>\n",
       "      <td>22</td>\n",
       "      <td>M</td>\n",
       "      <td>Chef</td>\n",
       "      <td>Español</td>\n",
       "      <td>12000</td>\n",
       "    </tr>\n",
       "    <tr>\n",
       "      <th>3</th>\n",
       "      <td>Itzel</td>\n",
       "      <td>28</td>\n",
       "      <td>F</td>\n",
       "      <td>Doctora</td>\n",
       "      <td>Español</td>\n",
       "      <td>13000</td>\n",
       "    </tr>\n",
       "    <tr>\n",
       "      <th>4</th>\n",
       "      <td>Alberto</td>\n",
       "      <td>26</td>\n",
       "      <td>M</td>\n",
       "      <td>Biotecnologo</td>\n",
       "      <td>Español</td>\n",
       "      <td>14000</td>\n",
       "    </tr>\n",
       "    <tr>\n",
       "      <th>5</th>\n",
       "      <td>Junuen</td>\n",
       "      <td>27</td>\n",
       "      <td>F</td>\n",
       "      <td>Ing. Industrial</td>\n",
       "      <td>Español</td>\n",
       "      <td>15000</td>\n",
       "    </tr>\n",
       "    <tr>\n",
       "      <th>6</th>\n",
       "      <td>Francisco</td>\n",
       "      <td>20</td>\n",
       "      <td>M</td>\n",
       "      <td>Locutor</td>\n",
       "      <td>Español</td>\n",
       "      <td>16000</td>\n",
       "    </tr>\n",
       "  </tbody>\n",
       "</table>\n",
       "</div>"
      ],
      "text/plain": [
       "     Nombres  Edad genero          Trabajo  Idiomas  Salario\n",
       "0     Moises    24      M      Programador  Español    10000\n",
       "1    Lluvia     46      F        Repostera  Español    11000\n",
       "2     Aaron     22      M             Chef  Español    12000\n",
       "3      Itzel    28      F          Doctora  Español    13000\n",
       "4    Alberto    26      M     Biotecnologo  Español    14000\n",
       "5     Junuen    27      F  Ing. Industrial  Español    15000\n",
       "6  Francisco    20     M           Locutor  Español    16000"
      ]
     },
     "execution_count": 15,
     "metadata": {},
     "output_type": "execute_result"
    }
   ],
   "source": [
    "# Agregar una nueva columna al dataframe con un array\n",
    "df_family['Salario'] = salario_num\n",
    "df_family"
   ]
  },
  {
   "cell_type": "code",
   "execution_count": 18,
   "metadata": {},
   "outputs": [],
   "source": [
    "# Crear numeros enteros aleatorios entre 1 y 100\n",
    "salario_num_new = np.random.randint(10000,20000, size=7)"
   ]
  },
  {
   "cell_type": "code",
   "execution_count": 20,
   "metadata": {},
   "outputs": [
    {
     "data": {
      "text/plain": [
       "19794"
      ]
     },
     "execution_count": 20,
     "metadata": {},
     "output_type": "execute_result"
    }
   ],
   "source": [
    "# El minimo valor es inclusivo y el maximo valor es exclusivo\n",
    "min(salario_num_new)\n",
    "max(salario_num_new)"
   ]
  },
  {
   "cell_type": "code",
   "execution_count": 21,
   "metadata": {},
   "outputs": [
    {
     "data": {
      "text/html": [
       "<div>\n",
       "<style scoped>\n",
       "    .dataframe tbody tr th:only-of-type {\n",
       "        vertical-align: middle;\n",
       "    }\n",
       "\n",
       "    .dataframe tbody tr th {\n",
       "        vertical-align: top;\n",
       "    }\n",
       "\n",
       "    .dataframe thead th {\n",
       "        text-align: right;\n",
       "    }\n",
       "</style>\n",
       "<table border=\"1\" class=\"dataframe\">\n",
       "  <thead>\n",
       "    <tr style=\"text-align: right;\">\n",
       "      <th></th>\n",
       "      <th>Nombres</th>\n",
       "      <th>Edad</th>\n",
       "      <th>genero</th>\n",
       "      <th>Trabajo</th>\n",
       "      <th>Idiomas</th>\n",
       "      <th>Salario</th>\n",
       "    </tr>\n",
       "  </thead>\n",
       "  <tbody>\n",
       "    <tr>\n",
       "      <th>0</th>\n",
       "      <td>Moises</td>\n",
       "      <td>24</td>\n",
       "      <td>M</td>\n",
       "      <td>Programador</td>\n",
       "      <td>Español</td>\n",
       "      <td>19278</td>\n",
       "    </tr>\n",
       "    <tr>\n",
       "      <th>1</th>\n",
       "      <td>Lluvia</td>\n",
       "      <td>46</td>\n",
       "      <td>F</td>\n",
       "      <td>Repostera</td>\n",
       "      <td>Español</td>\n",
       "      <td>12478</td>\n",
       "    </tr>\n",
       "    <tr>\n",
       "      <th>2</th>\n",
       "      <td>Aaron</td>\n",
       "      <td>22</td>\n",
       "      <td>M</td>\n",
       "      <td>Chef</td>\n",
       "      <td>Español</td>\n",
       "      <td>17388</td>\n",
       "    </tr>\n",
       "    <tr>\n",
       "      <th>3</th>\n",
       "      <td>Itzel</td>\n",
       "      <td>28</td>\n",
       "      <td>F</td>\n",
       "      <td>Doctora</td>\n",
       "      <td>Español</td>\n",
       "      <td>19794</td>\n",
       "    </tr>\n",
       "    <tr>\n",
       "      <th>4</th>\n",
       "      <td>Alberto</td>\n",
       "      <td>26</td>\n",
       "      <td>M</td>\n",
       "      <td>Biotecnologo</td>\n",
       "      <td>Español</td>\n",
       "      <td>14298</td>\n",
       "    </tr>\n",
       "    <tr>\n",
       "      <th>5</th>\n",
       "      <td>Junuen</td>\n",
       "      <td>27</td>\n",
       "      <td>F</td>\n",
       "      <td>Ing. Industrial</td>\n",
       "      <td>Español</td>\n",
       "      <td>15337</td>\n",
       "    </tr>\n",
       "    <tr>\n",
       "      <th>6</th>\n",
       "      <td>Francisco</td>\n",
       "      <td>20</td>\n",
       "      <td>M</td>\n",
       "      <td>Locutor</td>\n",
       "      <td>Español</td>\n",
       "      <td>11681</td>\n",
       "    </tr>\n",
       "  </tbody>\n",
       "</table>\n",
       "</div>"
      ],
      "text/plain": [
       "     Nombres  Edad genero          Trabajo  Idiomas  Salario\n",
       "0     Moises    24      M      Programador  Español    19278\n",
       "1    Lluvia     46      F        Repostera  Español    12478\n",
       "2     Aaron     22      M             Chef  Español    17388\n",
       "3      Itzel    28      F          Doctora  Español    19794\n",
       "4    Alberto    26      M     Biotecnologo  Español    14298\n",
       "5     Junuen    27      F  Ing. Industrial  Español    15337\n",
       "6  Francisco    20     M           Locutor  Español    11681"
      ]
     },
     "execution_count": 21,
     "metadata": {},
     "output_type": "execute_result"
    }
   ],
   "source": [
    "# Agregar una nueva columna al dataframe con un array\n",
    "df_family['Salario'] = salario_num_new\n",
    "df_family"
   ]
  },
  {
   "cell_type": "code",
   "execution_count": 22,
   "metadata": {},
   "outputs": [
    {
     "data": {
      "text/plain": [
       "array([17803.6457011 , 10219.98343464, 15449.28172524, 15640.05162761,\n",
       "       11498.88110071, 13204.17114742, 12805.18362833])"
      ]
     },
     "execution_count": 22,
     "metadata": {},
     "output_type": "execute_result"
    }
   ],
   "source": [
    "# Crear numeros decimales aleatorios entre 1 y 100\n",
    "np.random.uniform(10000,20000, size=7)"
   ]
  }
 ],
 "metadata": {
  "kernelspec": {
   "display_name": "Python 3.9.10 64-bit (system)",
   "language": "python",
   "name": "python3"
  },
  "language_info": {
   "codemirror_mode": {
    "name": "ipython",
    "version": 3
   },
   "file_extension": ".py",
   "mimetype": "text/x-python",
   "name": "python",
   "nbconvert_exporter": "python",
   "pygments_lexer": "ipython3",
   "version": "3.9.10"
  },
  "orig_nbformat": 4,
  "vscode": {
   "interpreter": {
    "hash": "9b8111d55d9c88ef8aef24969c11d2d1cf25e314ff1ccb6fd0817b4a312f5212"
   }
  }
 },
 "nbformat": 4,
 "nbformat_minor": 2
}
