{
 "cells": [
  {
   "cell_type": "code",
   "execution_count": 1,
   "metadata": {},
   "outputs": [],
   "source": [
    "import pandas as pd"
   ]
  },
  {
   "cell_type": "code",
   "execution_count": 2,
   "metadata": {},
   "outputs": [
    {
     "data": {
      "text/html": [
       "<div>\n",
       "<style scoped>\n",
       "    .dataframe tbody tr th:only-of-type {\n",
       "        vertical-align: middle;\n",
       "    }\n",
       "\n",
       "    .dataframe tbody tr th {\n",
       "        vertical-align: top;\n",
       "    }\n",
       "\n",
       "    .dataframe thead th {\n",
       "        text-align: right;\n",
       "    }\n",
       "</style>\n",
       "<table border=\"1\" class=\"dataframe\">\n",
       "  <thead>\n",
       "    <tr style=\"text-align: right;\">\n",
       "      <th></th>\n",
       "      <th>Nombres</th>\n",
       "      <th>Edad</th>\n",
       "      <th>genero</th>\n",
       "      <th>Trabajo</th>\n",
       "      <th>Años Trabajando</th>\n",
       "    </tr>\n",
       "  </thead>\n",
       "  <tbody>\n",
       "    <tr>\n",
       "      <th>0</th>\n",
       "      <td>Moises</td>\n",
       "      <td>24</td>\n",
       "      <td>M</td>\n",
       "      <td>Programador</td>\n",
       "      <td>1</td>\n",
       "    </tr>\n",
       "    <tr>\n",
       "      <th>1</th>\n",
       "      <td>Lluvia</td>\n",
       "      <td>46</td>\n",
       "      <td>F</td>\n",
       "      <td>Repostera</td>\n",
       "      <td>30</td>\n",
       "    </tr>\n",
       "    <tr>\n",
       "      <th>2</th>\n",
       "      <td>Aaron</td>\n",
       "      <td>22</td>\n",
       "      <td>M</td>\n",
       "      <td>Chef</td>\n",
       "      <td>2</td>\n",
       "    </tr>\n",
       "    <tr>\n",
       "      <th>3</th>\n",
       "      <td>Itzel</td>\n",
       "      <td>28</td>\n",
       "      <td>F</td>\n",
       "      <td>Doctora</td>\n",
       "      <td>5</td>\n",
       "    </tr>\n",
       "    <tr>\n",
       "      <th>4</th>\n",
       "      <td>Alberto</td>\n",
       "      <td>26</td>\n",
       "      <td>M</td>\n",
       "      <td>Biotecnologo</td>\n",
       "      <td>3</td>\n",
       "    </tr>\n",
       "    <tr>\n",
       "      <th>5</th>\n",
       "      <td>Junuen</td>\n",
       "      <td>27</td>\n",
       "      <td>F</td>\n",
       "      <td>Ing. Industrial</td>\n",
       "      <td>4</td>\n",
       "    </tr>\n",
       "    <tr>\n",
       "      <th>6</th>\n",
       "      <td>Francisco</td>\n",
       "      <td>20</td>\n",
       "      <td>M</td>\n",
       "      <td>Locutor</td>\n",
       "      <td>2</td>\n",
       "    </tr>\n",
       "  </tbody>\n",
       "</table>\n",
       "</div>"
      ],
      "text/plain": [
       "     Nombres  Edad genero          Trabajo  Años Trabajando\n",
       "0     Moises    24      M      Programador                1\n",
       "1    Lluvia     46      F        Repostera               30\n",
       "2     Aaron     22      M             Chef                2\n",
       "3      Itzel    28      F          Doctora                5\n",
       "4    Alberto    26      M     Biotecnologo                3\n",
       "5     Junuen    27      F  Ing. Industrial                4\n",
       "6  Francisco    20     M           Locutor                2"
      ]
     },
     "execution_count": 2,
     "metadata": {},
     "output_type": "execute_result"
    }
   ],
   "source": [
    "# Leyendo el archivo csv\n",
    "df_familia = pd.read_csv(\"familia.csv\")\n",
    "df_familia"
   ]
  },
  {
   "cell_type": "markdown",
   "metadata": {},
   "source": [
    "# 1 Value Counts"
   ]
  },
  {
   "cell_type": "code",
   "execution_count": 6,
   "metadata": {},
   "outputs": [
    {
     "data": {
      "text/plain": [
       "7"
      ]
     },
     "execution_count": 6,
     "metadata": {},
     "output_type": "execute_result"
    }
   ],
   "source": [
    "# contar los elementos en la columna \"Nombres\"\n",
    "# Funcion len\n",
    "\n",
    "len(df_familia['Nombres'])\n",
    "# metodo .count()\n",
    "df_familia['genero'].count()"
   ]
  },
  {
   "cell_type": "code",
   "execution_count": 7,
   "metadata": {},
   "outputs": [
    {
     "data": {
      "text/plain": [
       "M     3\n",
       "F     3\n",
       "M     1\n",
       "Name: genero, dtype: int64"
      ]
     },
     "execution_count": 7,
     "metadata": {},
     "output_type": "execute_result"
    }
   ],
   "source": [
    "# contar elementos \"genero\" por categoria\n",
    "df_familia['genero'].value_counts()"
   ]
  },
  {
   "cell_type": "code",
   "execution_count": 8,
   "metadata": {},
   "outputs": [
    {
     "data": {
      "text/plain": [
       "M     0.428571\n",
       "F     0.428571\n",
       "M     0.142857\n",
       "Name: genero, dtype: float64"
      ]
     },
     "execution_count": 8,
     "metadata": {},
     "output_type": "execute_result"
    }
   ],
   "source": [
    "# Obtener la frecuencia relativa (dividir todos los valores entre la suma)\n",
    "df_familia['genero'].value_counts(normalize=True)"
   ]
  },
  {
   "cell_type": "code",
   "execution_count": 9,
   "metadata": {},
   "outputs": [
    {
     "data": {
      "text/plain": [
       "Programador        1\n",
       "Repostera          1\n",
       "Chef               1\n",
       "Doctora            1\n",
       "Biotecnologo       1\n",
       "Ing. Industrial    1\n",
       "Locutor            1\n",
       "Name: Trabajo, dtype: int64"
      ]
     },
     "execution_count": 9,
     "metadata": {},
     "output_type": "execute_result"
    }
   ],
   "source": [
    "# Contar elementos de la columna \"Trabajo\" por categoria\n",
    "df_familia['Trabajo'].value_counts()"
   ]
  },
  {
   "cell_type": "code",
   "execution_count": 10,
   "metadata": {},
   "outputs": [
    {
     "data": {
      "text/plain": [
       "Programador        0.14\n",
       "Repostera          0.14\n",
       "Chef               0.14\n",
       "Doctora            0.14\n",
       "Biotecnologo       0.14\n",
       "Ing. Industrial    0.14\n",
       "Locutor            0.14\n",
       "Name: Trabajo, dtype: float64"
      ]
     },
     "execution_count": 10,
     "metadata": {},
     "output_type": "execute_result"
    }
   ],
   "source": [
    "# Obtener la frecuencia relativa y redondear a 2 decimales\n",
    "df_familia['Trabajo'].value_counts(normalize=True).round(2)"
   ]
  }
 ],
 "metadata": {
  "kernelspec": {
   "display_name": "Python 3.9.10 64-bit (system)",
   "language": "python",
   "name": "python3"
  },
  "language_info": {
   "codemirror_mode": {
    "name": "ipython",
    "version": 3
   },
   "file_extension": ".py",
   "mimetype": "text/x-python",
   "name": "python",
   "nbconvert_exporter": "python",
   "pygments_lexer": "ipython3",
   "version": "3.9.10"
  },
  "orig_nbformat": 4,
  "vscode": {
   "interpreter": {
    "hash": "9b8111d55d9c88ef8aef24969c11d2d1cf25e314ff1ccb6fd0817b4a312f5212"
   }
  }
 },
 "nbformat": 4,
 "nbformat_minor": 2
}
